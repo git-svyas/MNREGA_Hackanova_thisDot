{
  "nbformat": 4,
  "nbformat_minor": 0,
  "metadata": {
    "colab": {
      "provenance": []
    },
    "kernelspec": {
      "name": "python3",
      "display_name": "Python 3"
    },
    "language_info": {
      "name": "python"
    }
  },
  "cells": [
    {
      "cell_type": "code",
      "execution_count": 1,
      "metadata": {
        "id": "iTC0NTkor37H",
        "colab": {
          "base_uri": "https://localhost:8080/"
        },
        "outputId": "711038a0-eb38-4840-d195-58e74c08528c"
      },
      "outputs": [
        {
          "output_type": "stream",
          "name": "stdout",
          "text": [
            "Similarity using ORB is:  0.7575757575757576\n"
          ]
        },
        {
          "output_type": "stream",
          "name": "stderr",
          "text": [
            "<ipython-input-1-1312d19abb2c>:41: UserWarning: Inputs have mismatched dtype.  Setting data_range based on im1.dtype.\n",
            "  sim, diff = structural_similarity(img1, img2, full=True)\n"
          ]
        },
        {
          "output_type": "stream",
          "name": "stdout",
          "text": [
            "Similarity using SSIM is:  0.4122825771581936\n"
          ]
        }
      ],
      "source": [
        "from skimage.metrics import structural_similarity \n",
        "import math\n",
        "import cv2\n",
        "flag=0\n",
        "\n",
        "x1=1\n",
        "x2=2\n",
        "y1=3\n",
        "y2=4\n",
        "if(x1==x2 and y1==y2):\n",
        " flag=1\n",
        "dist=math.sqrt((x1-x2)**2 + (y1-y2)**2)\n",
        "gpsAcc=7+2;\n",
        "flag2=0;\n",
        "if(dist<=gpsAcc):\n",
        " flag2=1;\n",
        "#Works well with images of different dimensions\n",
        "def orb_sim(img1, img2):\n",
        "  # SIFT is no longer available in cv2 so using ORB\n",
        "  orb = cv2.ORB_create()\n",
        "\n",
        "  # detect keypoints and descriptors\n",
        "  kp_a, desc_a = orb.detectAndCompute(img1, None)\n",
        "  kp_b, desc_b = orb.detectAndCompute(img2, None)\n",
        "\n",
        "  # define the bruteforce matcher object\n",
        "  bf = cv2.BFMatcher(cv2.NORM_HAMMING, crossCheck=True)\n",
        "    \n",
        "  #perform matches. \n",
        "  matches = bf.match(desc_a, desc_b)\n",
        "  #Look for similar regions with distance < 50. Goes from 0 to 100 so pick a number between.\n",
        "  similar_regions = [i for i in matches if i.distance < 65]  \n",
        "  if len(matches) == 0:\n",
        "    return 0\n",
        "  return len(similar_regions) / len(matches)\n",
        "\n",
        "\n",
        "#Needs images to be same dimensions\n",
        "def structural_sim(img1, img2):\n",
        "\n",
        "  sim, diff = structural_similarity(img1, img2, full=True)\n",
        "  return sim\n",
        "\n",
        "img00 = cv2.imread('/content/drive/MyDrive/METADATA_22/ML/Image similarity checker/testing images/7.jpeg', 0)\n",
        "img01 = cv2.imread('/content/drive/MyDrive/METADATA_22/ML/Image similarity checker/testing images/12.jpeg', 0)\n",
        "\n",
        "orb_similarity = orb_sim(img00, img01)  #1.0 means identical. Lower = not similar\n",
        "\n",
        "print(\"Similarity using ORB is: \", orb_similarity)\n",
        "#Resize for SSIM\n",
        "from skimage.transform import resize\n",
        "img5 = resize(img01, (img00.shape[0], img00.shape[1]), anti_aliasing=True, preserve_range=True)\n",
        "\n",
        "ssim = structural_sim(img00, img5) #1.0 means identical. Lower = not similar\n",
        "print(\"Similarity using SSIM is: \", ssim)\n",
        "ans=max(orb_similarity,ssim)\n"
      ]
    },
    {
      "cell_type": "code",
      "source": [
        "if(flag2==1):\n",
        " if(flag==0):\n",
        "  if(ans>0.80):\n",
        "   print(\"images are similar\")\n",
        "  else:\n",
        "   print(\"images are different\")\n",
        " if(flag==1):\n",
        "  print(\"images are similar\")\n",
        "else:\n",
        " print(\"images are different\")"
      ],
      "metadata": {
        "id": "lRtezI8ItOrx",
        "colab": {
          "base_uri": "https://localhost:8080/"
        },
        "outputId": "aee8187b-85ee-4142-c155-d9c7ca8824f8"
      },
      "execution_count": 2,
      "outputs": [
        {
          "output_type": "stream",
          "name": "stdout",
          "text": [
            "images are different\n"
          ]
        }
      ]
    },
    {
      "cell_type": "code",
      "source": [],
      "metadata": {
        "id": "RY4EXz7Js_Iv"
      },
      "execution_count": 2,
      "outputs": []
    }
  ]
}